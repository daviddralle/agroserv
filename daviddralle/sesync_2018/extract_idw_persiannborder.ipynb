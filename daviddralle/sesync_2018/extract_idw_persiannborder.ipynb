{
 "cells": [
  {
   "cell_type": "code",
   "execution_count": 4,
   "metadata": {
    "collapsed": false,
    "deletable": true,
    "editable": true
   },
   "outputs": [],
   "source": [
    "import rasterio\n",
    "import numpy as np\n",
    "from matplotlib import pyplot as plt\n",
    "import pandas as pd\n",
    "import datetime\n",
    "import glob as glob\n",
    "import datetime\n",
    "import sys\n",
    "import os\n",
    "import geopandas as gp\n",
    "import rasterio\n",
    "# import seaborn as sns\n",
    "%matplotlib inline\n",
    "\n",
    "epoch = datetime.datetime.utcfromtimestamp(0)\n",
    "def unix_time_millis(dt):\n",
    "    return (dt - epoch).total_seconds() * 1000.0"
   ]
  },
  {
   "cell_type": "code",
   "execution_count": 5,
   "metadata": {
    "collapsed": true
   },
   "outputs": [],
   "source": [
    "gcs = '/mnt'"
   ]
  },
  {
   "cell_type": "code",
   "execution_count": 7,
   "metadata": {
    "collapsed": false,
    "deletable": true,
    "editable": true
   },
   "outputs": [
    {
     "name": "stderr",
     "output_type": "stream",
     "text": [
      "/usr/lib/python2.7/dist-packages/rasterio/sample.py:9: VisibleDeprecationWarning: using a non-integer number instead of an integer will result in an error in the future\n",
      "  data = read(indexes, window=window, masked=False, boundless=True)\n"
     ]
    }
   ],
   "source": [
    "fhs = glob.glob(gcs + '/rain_idw_persiann/*.tif')\n",
    "imageorder = np.array(\n",
    "    [int(fh.split('_')[-1].split('.')[0]) for fh in fhs]\n",
    ")\n",
    "fhs = [fhs[i] for i in imageorder.argsort()]\n",
    "dates = pd.date_range('1980-01-01', '2014-01-01')[:-1]\n",
    "points_gdf = gp.read_file(gcs + '/sesync2018_points.geojson')\n",
    "points = [item for item in zip(points_gdf['longitude'].values, points_gdf['latitude'].values)]\n",
    "data = np.zeros((len(dates), len(points)))\n",
    "\n",
    "# for each day, extract rainfall from each point in points\n",
    "# save the data as an nxm array, where n is the number of days\n",
    "# and m is the number of sites\n",
    "for i,f in enumerate(fhs):\n",
    "    with rasterio.open(f) as src:\n",
    "        test = np.array([val for val in src.sample(points)]).flatten()\n",
    "    data[i,:] = test\n",
    "\n",
    "# time series of rainfall at each site\n",
    "df_daily = pd.DataFrame(data, index=dates)\n",
    "todrop = [col for col in df_daily.columns if (df_daily[col].sum()<=0)|(~np.isfinite(df_daily[col].sum()))]\n",
    "df_daily.drop(todrop, inplace=True, axis=1)\n",
    "# df_daily.to_csv('./data/sesync2018_points_rainIdw.csv')"
   ]
  }
 ],
 "metadata": {
  "kernelspec": {
   "display_name": "Python 2",
   "language": "python",
   "name": "python2"
  },
  "language_info": {
   "codemirror_mode": {
    "name": "ipython",
    "version": 2
   },
   "file_extension": ".py",
   "mimetype": "text/x-python",
   "name": "python",
   "nbconvert_exporter": "python",
   "pygments_lexer": "ipython2",
   "version": "2.7.12"
  }
 },
 "nbformat": 4,
 "nbformat_minor": 2
}
