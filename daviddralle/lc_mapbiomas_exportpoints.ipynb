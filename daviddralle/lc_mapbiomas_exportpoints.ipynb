{
 "cells": [
  {
   "cell_type": "markdown",
   "metadata": {
    "deletable": true,
    "editable": true
   },
   "source": [
    "## Tell the notebook where to access cloud storage, if you're using it"
   ]
  },
  {
   "cell_type": "code",
   "execution_count": 1,
   "metadata": {
    "collapsed": true,
    "deletable": true,
    "editable": true
   },
   "outputs": [],
   "source": [
    "import ee\n",
    "import numpy as np\n",
    "import pandas as pd\n",
    "import matplotlib.pyplot as plt\n",
    "%matplotlib inline\n",
    "ee.Initialize()\n",
    "imc = ee.ImageCollection('users/grahamrjeffries/brazil_lc_morgen')\n",
    "bioma = ee.FeatureCollection('users/daviddralle/bioma')\n",
    "\n",
    "# Reclassify lc_morgen\n",
    "fromlist = [0, 1, 2, 4, 5, 6]\n",
    "tolist = [5, 1, 1, 1, 3, 3]\n",
    "def remapcustom(image):\n",
    "    return image.remap(fromlist, tolist)\n",
    "imc = imc.map(remapcustom).map(lambda image: image.rename(['lc']))"
   ]
  },
  {
   "cell_type": "code",
   "execution_count": 2,
   "metadata": {
    "collapsed": false,
    "deletable": true,
    "editable": true
   },
   "outputs": [
    {
     "data": {
      "text/html": [
       "<div>\n",
       "<style scoped>\n",
       "    .dataframe tbody tr th:only-of-type {\n",
       "        vertical-align: middle;\n",
       "    }\n",
       "\n",
       "    .dataframe tbody tr th {\n",
       "        vertical-align: top;\n",
       "    }\n",
       "\n",
       "    .dataframe thead th {\n",
       "        text-align: right;\n",
       "    }\n",
       "</style>\n",
       "<table border=\"1\" class=\"dataframe\">\n",
       "  <thead>\n",
       "    <tr style=\"text-align: right;\">\n",
       "      <th></th>\n",
       "      <th>x</th>\n",
       "      <th>y</th>\n",
       "      <th>year</th>\n",
       "      <th>id</th>\n",
       "    </tr>\n",
       "  </thead>\n",
       "  <tbody>\n",
       "    <tr>\n",
       "      <th>0</th>\n",
       "      <td>-59.242406</td>\n",
       "      <td>-13.539276</td>\n",
       "      <td>2006</td>\n",
       "      <td>1</td>\n",
       "    </tr>\n",
       "    <tr>\n",
       "      <th>1</th>\n",
       "      <td>-59.119188</td>\n",
       "      <td>-13.427609</td>\n",
       "      <td>2006</td>\n",
       "      <td>2</td>\n",
       "    </tr>\n",
       "    <tr>\n",
       "      <th>2</th>\n",
       "      <td>-59.084533</td>\n",
       "      <td>-13.469965</td>\n",
       "      <td>2006</td>\n",
       "      <td>3</td>\n",
       "    </tr>\n",
       "    <tr>\n",
       "      <th>3</th>\n",
       "      <td>-59.076832</td>\n",
       "      <td>-13.558529</td>\n",
       "      <td>2006</td>\n",
       "      <td>4</td>\n",
       "    </tr>\n",
       "    <tr>\n",
       "      <th>4</th>\n",
       "      <td>-59.057579</td>\n",
       "      <td>-13.650943</td>\n",
       "      <td>2006</td>\n",
       "      <td>5</td>\n",
       "    </tr>\n",
       "  </tbody>\n",
       "</table>\n",
       "</div>"
      ],
      "text/plain": [
       "           x          y  year  id\n",
       "0 -59.242406 -13.539276  2006   1\n",
       "1 -59.119188 -13.427609  2006   2\n",
       "2 -59.084533 -13.469965  2006   3\n",
       "3 -59.076832 -13.558529  2006   4\n",
       "4 -59.057579 -13.650943  2006   5"
      ]
     },
     "execution_count": 2,
     "metadata": {},
     "output_type": "execute_result"
    }
   ],
   "source": [
    "df = pd.read_csv( gcs + '/rally_points.csv')\n",
    "df.head()"
   ]
  },
  {
   "cell_type": "code",
   "execution_count": 101,
   "metadata": {
    "collapsed": false,
    "deletable": true,
    "editable": true,
    "scrolled": false
   },
   "outputs": [
    {
     "name": "stdout",
     "output_type": "stream",
     "text": [
      "{u'geometry': {u'type': u'Point', u'geodesic': True, u'coordinates': [-59.242406486176215, -13.53927608779361]}, u'type': u'Feature', u'id': u'lc_2006_0', u'properties': {u'lc': 1, u'id': 1, u'first': 1}}\n",
      "{u'geometry': {u'type': u'Point', u'geodesic': True, u'coordinates': [-59.288613316751174, -13.78186368887177]}, u'type': u'Feature', u'id': u'lc_2007_0', u'properties': {u'lc': 3, u'id': 891, u'first': 3}}\n",
      "{u'geometry': {u'type': u'Point', u'geodesic': True, u'coordinates': [-59.584333333333305, -13.5499722222222]}, u'type': u'Feature', u'id': u'lc_2008_0', u'properties': {u'lc': 5, u'id': 1659, u'first': 5}}\n",
      "{u'geometry': {u'type': u'Point', u'geodesic': True, u'coordinates': [-59.304015593609506, -13.75876010781671]}, u'type': u'Feature', u'id': u'lc_2009_0', u'properties': {u'lc': 3, u'id': 2709, u'first': 3}}\n",
      "{u'geometry': {u'type': u'Point', u'geodesic': True, u'coordinates': [-59.816141299148576, -13.55082787832114]}, u'type': u'Feature', u'id': u'lc_2010_0', u'properties': {u'lc': 3, u'id': 3642, u'first': 3}}\n",
      "{u'geometry': {u'type': u'Point', u'geodesic': True, u'coordinates': [-59.28091217832202, -13.778013092029259]}, u'type': u'Feature', u'id': u'lc_2011_0', u'properties': {u'lc': 1, u'id': 4678, u'first': 1}}\n",
      "{u'geometry': {u'type': u'Point', u'geodesic': True, u'coordinates': [-59.30786616282408, -13.789564882556789]}, u'type': u'Feature', u'id': u'lc_2012_0', u'properties': {u'lc': 3, u'id': 5779, u'first': 3}}\n",
      "{u'geometry': {u'type': u'Point', u'geodesic': True, u'coordinates': [-59.292463885965745, -13.866576819407001]}, u'type': u'Feature', u'id': u'lc_2013_0', u'properties': {u'lc': 3, u'id': 6695, u'first': 3}}\n",
      "{u'geometry': {u'type': u'Point', u'geodesic': True, u'coordinates': [-59.20005022481585, -13.76646130150173]}, u'type': u'Feature', u'id': u'lc_2014_0', u'properties': {u'lc': 3, u'id': 7411, u'first': 3}}\n",
      "{u'geometry': {u'type': u'Point', u'geodesic': True, u'coordinates': [-59.3386707165407, -13.789564882556789]}, u'type': u'Feature', u'id': u'lc_2015_0', u'properties': {u'lc': 3, u'id': 8078, u'first': 3}}\n"
     ]
    }
   ],
   "source": [
    "whatToSample = 'lc'\n",
    "scl = 30\n",
    "regionsId = 'id'\n",
    "\n",
    "years = df.year.values\n",
    "ft = []\n",
    "\n",
    "for year in np.unique(years):\n",
    "    toSample = imc.filterDate(str(year), str(year+1))\n",
    "    temp_pts = df.loc[df.year==year]\n",
    "    xy = [item for item in zip(temp_pts.x.values, temp_pts.y.values)]\n",
    "    ids = temp_pts.id.values\n",
    "    pts = ee.FeatureCollection([ee.Feature(ee.Geometry.Point(xy[i][0],xy[i][1]))\n",
    "                            .set('id', ids[i])\n",
    "                            for i in range(len(xy))])\n",
    "    regions = pts\n",
    "    triplets = toSample.map(lambda image: \n",
    "                       ee.Image(image.select(whatToSample)).\n",
    "                       reduceRegions(regions,reducer=ee.Reducer.first(),scale=scl)\n",
    "                       .map(lambda f: f.set(whatToSample,f.get('first')))\n",
    "                      ).flatten()\n",
    "\n",
    "    print(triplets.first().getInfo())\n",
    "    name = whatToSample + '_' + str(year) + '_'\n",
    "    ee.batch.Task.start(\n",
    "        ee.batch.Export.table(\n",
    "            triplets, \n",
    "            config={'outputBucket':'agroserve_climate','outputPrefix':name,'fileFormat':'geoJSON'}\n",
    "        )\n",
    "    )\n",
    "\n",
    "    \n",
    "# path = triplets.getDownloadURL(filetype='json')\n",
    "# print(path)\n",
    "\n",
    "    "
   ]
  },
  {
   "cell_type": "code",
   "execution_count": 102,
   "metadata": {
    "collapsed": false,
    "deletable": true,
    "editable": true
   },
   "outputs": [
    {
     "name": "stdout",
     "output_type": "stream",
     "text": [
      "{u'geometry': {u'type': u'Point', u'geodesic': True, u'coordinates': [-59.242406486176215, -13.53927608779361]}, u'type': u'Feature', u'id': u'mapbiomas_collection23_integration_v1_0', u'properties': {u'mb': 1, u'id': 1, u'first': 1}}\n",
      "{u'geometry': {u'type': u'Point', u'geodesic': True, u'coordinates': [-59.288613316751174, -13.78186368887177]}, u'type': u'Feature', u'id': u'mapbiomas_collection23_integration_v1_0', u'properties': {u'mb': 1, u'id': 891, u'first': 1}}\n",
      "{u'geometry': {u'type': u'Point', u'geodesic': True, u'coordinates': [-59.584333333333305, -13.5499722222222]}, u'type': u'Feature', u'id': u'mapbiomas_collection23_integration_v1_0', u'properties': {u'mb': 2, u'id': 1659, u'first': 2}}\n",
      "{u'geometry': {u'type': u'Point', u'geodesic': True, u'coordinates': [-59.304015593609506, -13.75876010781671]}, u'type': u'Feature', u'id': u'mapbiomas_collection23_integration_v1_0', u'properties': {u'mb': 1, u'id': 2709, u'first': 1}}\n",
      "{u'geometry': {u'type': u'Point', u'geodesic': True, u'coordinates': [-59.816141299148576, -13.55082787832114]}, u'type': u'Feature', u'id': u'mapbiomas_collection23_integration_v1_0', u'properties': {u'mb': 1, u'id': 3642, u'first': 1}}\n",
      "{u'geometry': {u'type': u'Point', u'geodesic': True, u'coordinates': [-59.28091217832202, -13.778013092029259]}, u'type': u'Feature', u'id': u'mapbiomas_collection23_integration_v1_0', u'properties': {u'mb': 1, u'id': 4678, u'first': 1}}\n",
      "{u'geometry': {u'type': u'Point', u'geodesic': True, u'coordinates': [-59.30786616282408, -13.789564882556789]}, u'type': u'Feature', u'id': u'mapbiomas_collection23_integration_v1_0', u'properties': {u'mb': 1, u'id': 5779, u'first': 1}}\n",
      "{u'geometry': {u'type': u'Point', u'geodesic': True, u'coordinates': [-59.292463885965745, -13.866576819407001]}, u'type': u'Feature', u'id': u'mapbiomas_collection23_integration_v1_0', u'properties': {u'mb': 1, u'id': 6695, u'first': 1}}\n",
      "{u'geometry': {u'type': u'Point', u'geodesic': True, u'coordinates': [-59.20005022481585, -13.76646130150173]}, u'type': u'Feature', u'id': u'mapbiomas_collection23_integration_v1_0', u'properties': {u'mb': 1, u'id': 7411, u'first': 1}}\n",
      "{u'geometry': {u'type': u'Point', u'geodesic': True, u'coordinates': [-59.3386707165407, -13.789564882556789]}, u'type': u'Feature', u'id': u'mapbiomas_collection23_integration_v1_0', u'properties': {u'mb': 1, u'id': 8078, u'first': 1}}\n"
     ]
    }
   ],
   "source": [
    "# reclass mapbiomas\n",
    "mb = ee.Image('projects/mapbiomas-workspace/public/collection2_3/mapbiomas_collection23_integration_v1')\n",
    "fromlist = range(1,28)\n",
    "tolist = len(fromlist)*[2]\n",
    "tolist[17] = 1\n",
    "tolist[20] = 1\n",
    "def remapcustom(image):\n",
    "    return image.remap(fromlist, tolist)\n",
    "\n",
    "whatToSample = 'mb'\n",
    "scl = 30\n",
    "regionsId = 'id'\n",
    "\n",
    "years = df.year.values\n",
    "ft = []\n",
    "\n",
    "for year in np.unique(years):\n",
    "    toSample = ee.ImageCollection([ee.Image(mb.select('classification_' + str(year))).remap(fromlist, tolist).rename(['mb'])])\n",
    "    temp_pts = df.loc[df.year==year]\n",
    "    xy = [item for item in zip(temp_pts.x.values, temp_pts.y.values)]\n",
    "    ids = temp_pts.id.values\n",
    "    pts = ee.FeatureCollection([ee.Feature(ee.Geometry.Point(xy[i][0],xy[i][1]))\n",
    "                            .set('id', ids[i])\n",
    "                            for i in range(len(xy))])\n",
    "    regions = pts\n",
    "    triplets = toSample.map(lambda image: \n",
    "                       ee.Image(image.select(whatToSample)).\n",
    "                       reduceRegions(regions,reducer=ee.Reducer.first(),scale=scl)\n",
    "                       .map(lambda f: f.set(whatToSample,f.get('first')))\n",
    "                      ).flatten()\n",
    "    print(triplets.first().getInfo())\n",
    "    name = whatToSample + '_' + str(year) + '_'\n",
    "    ee.batch.Task.start(\n",
    "        ee.batch.Export.table(\n",
    "            triplets, \n",
    "            config={'outputBucket':'agroserve_climate','outputPrefix':name, 'fileFormat':'geoJSON'}\n",
    "        )\n",
    "    )    \n"
   ]
  },
  {
   "cell_type": "code",
   "execution_count": 116,
   "metadata": {
    "collapsed": true,
    "deletable": true,
    "editable": true
   },
   "outputs": [],
   "source": [
    "import glob\n",
    "lcs = pd.concat([gp.read_file(item) for item in glob.glob(gcs + '/lc*.geojson')])\n",
    "mb = pd.concat([gp.read_file(item) for item in glob.glob(gcs + '/mb*.geojson')])\n",
    "df = mb.merge(lcs, how='inner', on='id')\n",
    "df['mb_lc'] = df.mb*df.lc\n",
    "df = df[['mb_lc', 'geometry_x', 'id']]\n",
    "df['lat'] = df['geometry_x'].apply(lambda row: row.y)\n",
    "df['lon'] = df['geometry_x'].apply(lambda row: row.x)\n",
    "df.to_csv('/mnt/mb_lc.csv')"
   ]
  }
 ],
 "metadata": {
  "kernelspec": {
   "display_name": "Python 2",
   "language": "python",
   "name": "python2"
  },
  "language_info": {
   "codemirror_mode": {
    "name": "ipython",
    "version": 2
   },
   "file_extension": ".py",
   "mimetype": "text/x-python",
   "name": "python",
   "nbconvert_exporter": "python",
   "pygments_lexer": "ipython2",
   "version": "2.7.12"
  }
 },
 "nbformat": 4,
 "nbformat_minor": 2
}
