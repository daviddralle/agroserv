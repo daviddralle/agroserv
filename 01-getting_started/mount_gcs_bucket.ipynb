{
 "cells": [
  {
   "cell_type": "markdown",
   "metadata": {
    "deletable": true,
    "editable": true
   },
   "source": [
    "# Mount a cloud storage bucket to work with large datasets"
   ]
  },
  {
   "cell_type": "markdown",
   "metadata": {
    "deletable": true,
    "editable": true
   },
   "source": [
    "## IF on cloud machine\n",
    "\n",
    "Do not try to mount the cloud storage bucket in the datalab folder! Mount it at /mnt, and access the folder at /mnt. "
   ]
  },
  {
   "cell_type": "code",
   "execution_count": 6,
   "metadata": {
    "collapsed": false,
    "deletable": true,
    "editable": true
   },
   "outputs": [
    {
     "name": "stdout",
     "output_type": "stream",
     "text": [
      "Using mount point: /mnt\n",
      "Opening GCS connection...\n",
      "Opening bucket...\n",
      "Mounting file system...\n",
      "File system has been successfully mounted.\n"
     ]
    }
   ],
   "source": [
    "%%bash\n",
    "gcsfuse --implicit-dirs agroserve_bucket /mnt"
   ]
  },
  {
   "cell_type": "markdown",
   "metadata": {
    "deletable": true,
    "editable": true
   },
   "source": [
    "## Automatically mount bucket upon startup\n",
    "\n",
    "Assuming the above worked and you received a \"File system has been succesfully mounted\" statement, you can alter the startup script for your VM to automatically mount the cloud storage bucket whenever you login. This way you won't have to mount the bucket every time you want to do some work. This script is optional, and you can always remove it from ``startup.sh`` if needed. "
   ]
  },
  {
   "cell_type": "code",
   "execution_count": 5,
   "metadata": {
    "collapsed": false,
    "deletable": true,
    "editable": true
   },
   "outputs": [
    {
     "name": "stdout",
     "output_type": "stream",
     "text": [
      "gcsfuse --implicit-dirs agroserve_bucket /mnt\n"
     ]
    }
   ],
   "source": [
    "%%bash\n",
    "echo \"gcsfuse --implicit-dirs agroserve_bucket /mnt\" >> /content/datalab/.config/startup.sh\n",
    "\n",
    "# This line should echo the mount script that you added to the startup.sh file.\n",
    "# Make double triple sure that you don't replicate this command in startup.sh (cat should only echo the command once)\n",
    "# or you may run into big time startup issues! I've found gcsfuse is a sensitive little fella. \n",
    "cat /content/datalab/.config/startup.sh"
   ]
  }
 ],
 "metadata": {
  "kernelspec": {
   "display_name": "Python 2",
   "language": "python",
   "name": "python2"
  },
  "language_info": {
   "codemirror_mode": {
    "name": "ipython",
    "version": 2
   },
   "file_extension": ".py",
   "mimetype": "text/x-python",
   "name": "python",
   "nbconvert_exporter": "python",
   "pygments_lexer": "ipython2",
   "version": "2.7.12"
  }
 },
 "nbformat": 4,
 "nbformat_minor": 2
}
